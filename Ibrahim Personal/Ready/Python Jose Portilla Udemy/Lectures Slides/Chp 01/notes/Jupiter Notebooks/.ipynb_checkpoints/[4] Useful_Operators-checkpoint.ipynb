{
 "cells": [
  {
   "cell_type": "markdown",
   "metadata": {},
   "source": [
    "# [1] Range Operator"
   ]
  },
  {
   "cell_type": "code",
   "execution_count": null,
   "metadata": {},
   "outputs": [],
   "source": [
    "# Range Operator\n",
    "#%%\n",
    "for num in range(10):\n",
    "    print(num)\n",
    "#%%    \n",
    "for num in range(3, 10):\n",
    "    print(num)    \n",
    "#%%    \n",
    "for num in range(0, 11, 2):\n",
    "    print(num)        \n",
    "#%%  \n",
    "# Range    \n",
    "list (range(0, 11, 2))    \n",
    "\n",
    "#%%\n",
    "# range is a generator\n",
    "#Generator is a special type of function which will generate numbers \n",
    "#insted of saving it to memory"
   ]
  },
  {
   "cell_type": "markdown",
   "metadata": {},
   "source": [
    "# [2] Enumerate"
   ]
  },
  {
   "cell_type": "code",
   "execution_count": null,
   "metadata": {},
   "outputs": [],
   "source": [
    "index_count = 0\n",
    "\n",
    "for letter in \"abcde\":\n",
    "    print(\"At index {} the letter is {}\". format(index_count, letter))\n",
    "    index_count += 1\n",
    "    "
   ]
  },
  {
   "cell_type": "code",
   "execution_count": null,
   "metadata": {},
   "outputs": [],
   "source": [
    "#%%\n",
    "index_count = 0\n",
    "word = \"abcde\"\n",
    "\n",
    "for l in word:\n",
    "    print(word[index_count]) \n",
    "    index_count+=1"
   ]
  },
  {
   "cell_type": "code",
   "execution_count": null,
   "metadata": {},
   "outputs": [],
   "source": [
    "#%%\n",
    "# note the power of enumerate\n",
    "# reuslt of enumerate is tupples\n",
    "word = \"abcde\"\n",
    "\n",
    "for l in enumerate(word):\n",
    "    print(l)\n",
    "    "
   ]
  },
  {
   "cell_type": "code",
   "execution_count": null,
   "metadata": {},
   "outputs": [],
   "source": [
    "#%%\n",
    "\n",
    "word = \"abcde\"\n",
    "\n",
    "for index, items in enumerate(word):\n",
    "    print(index)\n",
    "    print(items)\n",
    "    #print(\"\\n\")\n",
    "        "
   ]
  },
  {
   "cell_type": "markdown",
   "metadata": {},
   "source": [
    "# [3] Zip Function"
   ]
  },
  {
   "cell_type": "code",
   "execution_count": null,
   "metadata": {},
   "outputs": [],
   "source": [
    "# Zip Function\n",
    "list_1 = [1,2,3] \n",
    "list_2 = [\"a\",\"b\",\"c\"]  \n",
    "#%%\n",
    "zip(list_1, list_2) # item zipped at the followinf memory locations"
   ]
  },
  {
   "cell_type": "code",
   "execution_count": null,
   "metadata": {},
   "outputs": [],
   "source": [
    "for item in zip(list_1, list_2):\n",
    "    print(item) # items will be returned packed as tuples, have to use tuples unpacking"
   ]
  },
  {
   "cell_type": "code",
   "execution_count": null,
   "metadata": {},
   "outputs": [],
   "source": [
    "#%%\n",
    "list_1 = [1,2,3,4,5,6] \n",
    "list_2 = [\"a\",\"b\",\"c\"] \n",
    "list_3 = [10, 20, 30] \n",
    "\n",
    "for item in zip(list_1, list_2, list_3):\n",
    "    print(item) #items will be zipped only as far as the values are available for the smallest list\n",
    "    "
   ]
  },
  {
   "cell_type": "code",
   "execution_count": null,
   "metadata": {},
   "outputs": [],
   "source": [
    "#%%\n",
    "list_1 = [1,2,3,4,5,6] \n",
    "list_2 = [\"a\",\"b\",\"c\"] \n",
    "\n",
    "list(zip(list_1, list_2))\n",
    "    "
   ]
  },
  {
   "cell_type": "code",
   "execution_count": null,
   "metadata": {},
   "outputs": [],
   "source": [
    "# Tuples unpacking Example\n",
    "\n",
    "list_1 = [1,2,3,4,5,6] \n",
    "list_2 = [\"a\",\"b\",\"c\"] \n",
    "list_3 = [10, 20, 30] \n",
    "\n",
    "for a,b,c in zip(list_1, list_2, list_3):\n",
    "    print(a) "
   ]
  },
  {
   "cell_type": "markdown",
   "metadata": {},
   "source": [
    "# [3] In Keyword"
   ]
  },
  {
   "cell_type": "code",
   "execution_count": null,
   "metadata": {},
   "outputs": [],
   "source": [
    "#%%\n",
    "2 in [1,2,3] "
   ]
  },
  {
   "cell_type": "code",
   "execution_count": null,
   "metadata": {},
   "outputs": [],
   "source": [
    "#%%\n",
    "'x' in ['x', 'y', 'z']  "
   ]
  },
  {
   "cell_type": "code",
   "execution_count": null,
   "metadata": {},
   "outputs": [],
   "source": [
    "#%%\n",
    "'r' in 'a world'"
   ]
  },
  {
   "cell_type": "code",
   "execution_count": null,
   "metadata": {},
   "outputs": [],
   "source": [
    "#%%\n",
    "'mykey' in {'mykey': 345}"
   ]
  },
  {
   "cell_type": "code",
   "execution_count": null,
   "metadata": {},
   "outputs": [],
   "source": [
    "#%%\n",
    "d = {'mykey': 345} \n",
    "345 in d.values()   \n",
    "345 in d.keys()"
   ]
  },
  {
   "cell_type": "markdown",
   "metadata": {},
   "source": [
    "# [4] Min/ Max"
   ]
  },
  {
   "cell_type": "code",
   "execution_count": null,
   "metadata": {},
   "outputs": [],
   "source": [
    "mylist = [10, 20, 30, 40, 100]\n",
    "min(mylist)\n",
    "max(mylist)"
   ]
  },
  {
   "cell_type": "markdown",
   "metadata": {},
   "source": [
    "# [5] Import function"
   ]
  },
  {
   "cell_type": "code",
   "execution_count": null,
   "metadata": {},
   "outputs": [],
   "source": [
    "#%%\n",
    "from random import shuffle\n",
    "mylist = [1,2,3,4,5,6,7,8,9,10]\n",
    "shuffle(mylist)\n",
    "mylist\n"
   ]
  },
  {
   "cell_type": "code",
   "execution_count": null,
   "metadata": {},
   "outputs": [],
   "source": [
    "#%%\n",
    "from random import shuffle\n",
    "mylist = [1,2,3,4,5,6,7,8,9,10]\n",
    "random_list = shuffle(mylist)\n",
    "random_list # Inplace function, won't return anything\n",
    "type(random_list)\n"
   ]
  },
  {
   "cell_type": "code",
   "execution_count": null,
   "metadata": {},
   "outputs": [],
   "source": [
    "#%%\n",
    "from random import randint\n",
    "randint(0,100) # as it returns the value it is not inplace and hence we can store it"
   ]
  },
  {
   "cell_type": "code",
   "execution_count": null,
   "metadata": {},
   "outputs": [],
   "source": [
    "#%%\n",
    "from random import randint\n",
    "mynum = randint(0,10)\n",
    "mynum"
   ]
  },
  {
   "cell_type": "markdown",
   "metadata": {},
   "source": [
    "# [6] Input Function"
   ]
  },
  {
   "cell_type": "code",
   "execution_count": null,
   "metadata": {},
   "outputs": [],
   "source": [
    "# function to take user input \n",
    "#%%\n",
    "input (\"Enter a number here: \") \n",
    "#%%\n",
    "result = input (\"What is your name: \")\n",
    "#%%\n",
    "result = input (\"Favourite number: \")\n",
    "\n",
    "print (result)\n",
    "type(result)"
   ]
  },
  {
   "cell_type": "code",
   "execution_count": null,
   "metadata": {},
   "outputs": [],
   "source": [
    "# note that input always outputs the results in string\n",
    "# hence to convert it to float or int we have to use\n",
    "float(result)\n",
    "int (result)\n"
   ]
  },
  {
   "cell_type": "code",
   "execution_count": null,
   "metadata": {},
   "outputs": [],
   "source": [
    "# or else we can do this\n",
    "#%%\n",
    "result = int (input (\"Favourite number: \"))\n",
    "type(result)"
   ]
  },
  {
   "cell_type": "code",
   "execution_count": null,
   "metadata": {},
   "outputs": [],
   "source": []
  }
 ],
 "metadata": {
  "kernelspec": {
   "display_name": "Python 3",
   "language": "python",
   "name": "python3"
  },
  "language_info": {
   "codemirror_mode": {
    "name": "ipython",
    "version": 3
   },
   "file_extension": ".py",
   "mimetype": "text/x-python",
   "name": "python",
   "nbconvert_exporter": "python",
   "pygments_lexer": "ipython3",
   "version": "3.6.4"
  }
 },
 "nbformat": 4,
 "nbformat_minor": 2
}
