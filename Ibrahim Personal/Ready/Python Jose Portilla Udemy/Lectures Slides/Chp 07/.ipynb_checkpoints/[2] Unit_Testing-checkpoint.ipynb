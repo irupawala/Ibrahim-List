{
 "cells": [
  {
   "cell_type": "markdown",
   "metadata": {},
   "source": [
    "# Pylint and Unittest"
   ]
  },
  {
   "cell_type": "markdown",
   "metadata": {},
   "source": [
    "There are several testing tools, we will focus on two:\n",
    "\n",
    "1. Pylint: This is a library that looks at your code and reports back possible issues (Errors and styling. Python has a set of style convention rules known as \"PEP8\".\n",
    "2. Unittest: This built-in library will allow to test your own programs and check you are getting desired outputs."
   ]
  },
  {
   "cell_type": "markdown",
   "metadata": {},
   "source": [
    "Try the simple_1_w_error.py using the command. \n",
    "\n",
    "- pylint simple_1.py to only get error message\n",
    "- pylint -r y simple_1.py to get the full report "
   ]
  }
 ],
 "metadata": {
  "kernelspec": {
   "display_name": "Python 3",
   "language": "python",
   "name": "python3"
  },
  "language_info": {
   "codemirror_mode": {
    "name": "ipython",
    "version": 3
   },
   "file_extension": ".py",
   "mimetype": "text/x-python",
   "name": "python",
   "nbconvert_exporter": "python",
   "pygments_lexer": "ipython3",
   "version": "3.7.3"
  }
 },
 "nbformat": 4,
 "nbformat_minor": 2
}
