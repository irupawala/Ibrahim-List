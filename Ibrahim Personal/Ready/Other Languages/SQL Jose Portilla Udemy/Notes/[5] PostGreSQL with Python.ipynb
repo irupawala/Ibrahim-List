{
 "cells": [
  {
   "cell_type": "markdown",
   "metadata": {},
   "source": [
    "# PostGreSQL with Python"
   ]
  },
  {
   "cell_type": "code",
   "execution_count": 3,
   "metadata": {},
   "outputs": [],
   "source": [
    "import psycopg2 as pg2"
   ]
  },
  {
   "cell_type": "code",
   "execution_count": 4,
   "metadata": {},
   "outputs": [],
   "source": [
    "conn = pg2.connect(database='dvdrental', user='postgres', password='Ghajini123')"
   ]
  },
  {
   "cell_type": "markdown",
   "metadata": {},
   "source": [
    "**Cursor is a control structure that enables traversal over records and database. It a iterator or pointer for sql data retrieval**"
   ]
  },
  {
   "cell_type": "code",
   "execution_count": 6,
   "metadata": {},
   "outputs": [],
   "source": [
    "cur = conn.cursor()"
   ]
  },
  {
   "cell_type": "code",
   "execution_count": 7,
   "metadata": {},
   "outputs": [],
   "source": [
    "cur.execute('SELECT * FROM payment')"
   ]
  },
  {
   "cell_type": "code",
   "execution_count": 8,
   "metadata": {},
   "outputs": [
    {
     "data": {
      "text/plain": [
       "(17503,\n",
       " 341,\n",
       " 2,\n",
       " 1520,\n",
       " Decimal('7.99'),\n",
       " datetime.datetime(2007, 2, 15, 22, 25, 46, 996577))"
      ]
     },
     "execution_count": 8,
     "metadata": {},
     "output_type": "execute_result"
    }
   ],
   "source": [
    "cur.fetchone() # retrives the data from first row"
   ]
  },
  {
   "cell_type": "code",
   "execution_count": 10,
   "metadata": {},
   "outputs": [
    {
     "data": {
      "text/plain": [
       "[(17509,\n",
       "  342,\n",
       "  2,\n",
       "  2190,\n",
       "  Decimal('5.99'),\n",
       "  datetime.datetime(2007, 2, 17, 23, 58, 17, 996577)),\n",
       " (17510,\n",
       "  342,\n",
       "  1,\n",
       "  2914,\n",
       "  Decimal('5.99'),\n",
       "  datetime.datetime(2007, 2, 20, 2, 11, 44, 996577)),\n",
       " (17511,\n",
       "  342,\n",
       "  1,\n",
       "  3081,\n",
       "  Decimal('2.99'),\n",
       "  datetime.datetime(2007, 2, 20, 13, 57, 39, 996577)),\n",
       " (17512,\n",
       "  343,\n",
       "  2,\n",
       "  1547,\n",
       "  Decimal('4.99'),\n",
       "  datetime.datetime(2007, 2, 16, 0, 10, 50, 996577)),\n",
       " (17513,\n",
       "  343,\n",
       "  1,\n",
       "  1564,\n",
       "  Decimal('6.99'),\n",
       "  datetime.datetime(2007, 2, 16, 1, 15, 33, 996577))]"
      ]
     },
     "execution_count": 10,
     "metadata": {},
     "output_type": "execute_result"
    }
   ],
   "source": [
    "cur.fetchmany(5) #input the number of column you want to fetch"
   ]
  },
  {
   "cell_type": "code",
   "execution_count": 12,
   "metadata": {},
   "outputs": [],
   "source": [
    "data = cur.fetchmany(10)"
   ]
  },
  {
   "cell_type": "code",
   "execution_count": 13,
   "metadata": {},
   "outputs": [
    {
     "data": {
      "text/plain": [
       "(17524,\n",
       " 345,\n",
       " 2,\n",
       " 1550,\n",
       " Decimal('0.99'),\n",
       " datetime.datetime(2007, 2, 16, 0, 27, 1, 996577))"
      ]
     },
     "execution_count": 13,
     "metadata": {},
     "output_type": "execute_result"
    }
   ],
   "source": [
    "data[0] # Now as the results are returned in tuple we can use tuple unpacking"
   ]
  },
  {
   "cell_type": "code",
   "execution_count": 14,
   "metadata": {},
   "outputs": [
    {
     "data": {
      "text/plain": [
       "1550"
      ]
     },
     "execution_count": 14,
     "metadata": {},
     "output_type": "execute_result"
    }
   ],
   "source": [
    "data[0][3]"
   ]
  },
  {
   "cell_type": "markdown",
   "metadata": {},
   "source": [
    "**You have to close connection once you have completed communicating with the database**"
   ]
  },
  {
   "cell_type": "code",
   "execution_count": 15,
   "metadata": {},
   "outputs": [],
   "source": [
    "conn.close()"
   ]
  },
  {
   "cell_type": "markdown",
   "metadata": {},
   "source": [
    "**For More Information Refer to Pgsql-with-Python in Jose Material Folder**"
   ]
  }
 ],
 "metadata": {
  "kernelspec": {
   "display_name": "Python 3",
   "language": "python",
   "name": "python3"
  },
  "language_info": {
   "codemirror_mode": {
    "name": "ipython",
    "version": 3
   },
   "file_extension": ".py",
   "mimetype": "text/x-python",
   "name": "python",
   "nbconvert_exporter": "python",
   "pygments_lexer": "ipython3",
   "version": "3.7.3"
  }
 },
 "nbformat": 4,
 "nbformat_minor": 2
}
