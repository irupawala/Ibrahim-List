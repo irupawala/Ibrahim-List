{
 "cells": [
  {
   "cell_type": "code",
   "execution_count": 1,
   "metadata": {},
   "outputs": [],
   "source": [
    "# if __name__ == \"__main__\":"
   ]
  },
  {
   "cell_type": "markdown",
   "metadata": {},
   "source": [
    "- "
   ]
  },
  {
   "cell_type": "markdown",
   "metadata": {},
   "source": [
    "- Any Code at identation level 0 always executes by default automatically when you run the .py file\n",
    "- Unlike other programming languages python does not have main() function\n",
    "- The built-in variable __name__ is available in python and it is assigned a string depending on how you are running the actual script\n",
    "- If you run the script directly python will assign string __main__ to __name__ varaible that is :\n",
    "            __name__ == \"__main__\"\n",
    "            \n",
    "- Hence to check if particular .py file is executed directly then you can check like this:\n",
    "            if __name__ == \"__main__\":\n",
    "            myfunc()\n",
    "            \n",
    "- myfunc() is the function which will be executed if this py file is run directly\n",
    "- Check the examples in the Lecture Notes"
   ]
  },
  {
   "cell_type": "code",
   "execution_count": null,
   "metadata": {},
   "outputs": [],
   "source": []
  }
 ],
 "metadata": {
  "kernelspec": {
   "display_name": "Python 3",
   "language": "python",
   "name": "python3"
  },
  "language_info": {
   "codemirror_mode": {
    "name": "ipython",
    "version": 3
   },
   "file_extension": ".py",
   "mimetype": "text/x-python",
   "name": "python",
   "nbconvert_exporter": "python",
   "pygments_lexer": "ipython3",
   "version": "3.7.3"
  }
 },
 "nbformat": 4,
 "nbformat_minor": 2
}
