{
 "cells": [
  {
   "cell_type": "markdown",
   "metadata": {},
   "source": [
    "# Two ways to open and close files"
   ]
  },
  {
   "cell_type": "code",
   "execution_count": 9,
   "metadata": {},
   "outputs": [],
   "source": [
    "# 1. Open and Close methods\n",
    "# 2. With Open \n",
    "\n",
    "# Permissions/ mode for with Open\n",
    "\n",
    "# 'r' read only\n",
    "# 'w' write only\n",
    "# 'a\" append only\n",
    "# 'r+' reading and writing\n",
    "# 'w+' writing and reading\n"
   ]
  },
  {
   "cell_type": "markdown",
   "metadata": {},
   "source": [
    "# IO Methods"
   ]
  },
  {
   "cell_type": "code",
   "execution_count": null,
   "metadata": {},
   "outputs": [],
   "source": [
    "# 1. .close()\n",
    "# 2. .read()\n",
    "# 3. .readlines()\n",
    "# 4. .seek()\n",
    "# 5. .write()"
   ]
  },
  {
   "cell_type": "code",
   "execution_count": 1,
   "metadata": {
    "scrolled": true
   },
   "outputs": [
    {
     "ename": "FileNotFoundError",
     "evalue": "[Errno 2] No such file or directory: 'C:\\\\Users\\\\Admin\\\\Desktop\\\\Python Udemy\\\\Lectures Slides\\\\Chp 00\\\\notes\\\\my_file.txt'",
     "output_type": "error",
     "traceback": [
      "\u001b[1;31m---------------------------------------------------------------------------\u001b[0m",
      "\u001b[1;31mFileNotFoundError\u001b[0m                         Traceback (most recent call last)",
      "\u001b[1;32m<ipython-input-1-4e88d922c0eb>\u001b[0m in \u001b[0;36m<module>\u001b[1;34m\u001b[0m\n\u001b[0;32m      1\u001b[0m \u001b[1;31m# 1. Open and Close methods\u001b[0m\u001b[1;33m\u001b[0m\u001b[1;33m\u001b[0m\u001b[1;33m\u001b[0m\u001b[0m\n\u001b[0;32m      2\u001b[0m \u001b[1;33m\u001b[0m\u001b[0m\n\u001b[1;32m----> 3\u001b[1;33m \u001b[0mmy_file\u001b[0m \u001b[1;33m=\u001b[0m \u001b[0mopen\u001b[0m\u001b[1;33m(\u001b[0m\u001b[1;34m\"C:\\\\Users\\\\Admin\\\\Desktop\\\\Python Udemy\\\\Lectures Slides\\\\Chp 00\\\\notes\\\\my_file.txt\"\u001b[0m\u001b[1;33m)\u001b[0m\u001b[1;33m\u001b[0m\u001b[1;33m\u001b[0m\u001b[0m\n\u001b[0m\u001b[0;32m      4\u001b[0m \u001b[1;33m\u001b[0m\u001b[0m\n\u001b[0;32m      5\u001b[0m \u001b[1;31m# For windows use double \\ so python doesn'treat the second \\ as an escape character\u001b[0m\u001b[1;33m\u001b[0m\u001b[1;33m\u001b[0m\u001b[1;33m\u001b[0m\u001b[0m\n",
      "\u001b[1;31mFileNotFoundError\u001b[0m: [Errno 2] No such file or directory: 'C:\\\\Users\\\\Admin\\\\Desktop\\\\Python Udemy\\\\Lectures Slides\\\\Chp 00\\\\notes\\\\my_file.txt'"
     ]
    }
   ],
   "source": [
    "# 1. Open and Close methods\n",
    "\n",
    "my_file = open(\"C:\\\\Users\\\\Admin\\\\Desktop\\\\Python Udemy\\\\Lectures Slides\\\\Chp 00\\\\notes\\\\my_file.txt\")\n",
    "\n",
    "# For windows use double \\ so python doesn'treat the second \\ as an escape character\n",
    "# For MacOS and Linux you use slashes in the opposite direction\n",
    "\n",
    "(my_file.read()) # In the output the new line will be discriminated by \\n character"
   ]
  },
  {
   "cell_type": "code",
   "execution_count": 5,
   "metadata": {},
   "outputs": [
    {
     "name": "stdout",
     "output_type": "stream",
     "text": [
      "Hello, This is the new file\n",
      "This is the second line\n",
      "This is the third line\n",
      "This is the fourth line\n",
      "This is the fourth line\n",
      "This is the fourth line\n",
      "This is the fourth line\n",
      "This is the fourth line\n"
     ]
    }
   ],
   "source": [
    "my_file = open(\"C:\\\\Users\\\\Admin\\\\Desktop\\\\Python Udemy\\\\Lectures Slides\\\\Chp 00\\\\notes\\\\my_file.txt\")\n",
    "print(my_file.read())"
   ]
  },
  {
   "cell_type": "code",
   "execution_count": 6,
   "metadata": {},
   "outputs": [
    {
     "name": "stdout",
     "output_type": "stream",
     "text": [
      "\n"
     ]
    }
   ],
   "source": [
    "print(my_file.read())\n",
    "# If you will run it second time the output will be ''\n",
    "# This is because the cursor has moved to the end of the file"
   ]
  },
  {
   "cell_type": "code",
   "execution_count": 7,
   "metadata": {},
   "outputs": [
    {
     "data": {
      "text/plain": [
       "'Hello, This is the new file\\nThis is the second line\\nThis is the third line\\nThis is the fourth line\\nThis is the fourth line\\nThis is the fourth line\\nThis is the fourth line\\nThis is the fourth line'"
      ]
     },
     "execution_count": 7,
     "metadata": {},
     "output_type": "execute_result"
    }
   ],
   "source": [
    "# Hence to read it again you have to reset the cursor or seek it back to 0\n",
    "# try this\n",
    "\n",
    "my_file.seek(0) # This will seek cursor back to 0\n",
    "my_file.read()\n"
   ]
  },
  {
   "cell_type": "code",
   "execution_count": 8,
   "metadata": {},
   "outputs": [
    {
     "data": {
      "text/plain": [
       "['Hello, This is the new file\\n',\n",
       " 'This is the second line\\n',\n",
       " 'This is the third line\\n',\n",
       " 'This is the fourth line\\n',\n",
       " 'This is the fourth line\\n',\n",
       " 'This is the fourth line\\n',\n",
       " 'This is the fourth line\\n',\n",
       " 'This is the fourth line']"
      ]
     },
     "execution_count": 8,
     "metadata": {},
     "output_type": "execute_result"
    }
   ],
   "source": [
    "# To get the new line displayed use\n",
    "\n",
    "my_file.seek(0)\n",
    "my_file.readlines()"
   ]
  },
  {
   "cell_type": "code",
   "execution_count": 9,
   "metadata": {},
   "outputs": [],
   "source": [
    "my_file.close() # to close this file\n"
   ]
  },
  {
   "cell_type": "code",
   "execution_count": 10,
   "metadata": {},
   "outputs": [
    {
     "name": "stdout",
     "output_type": "stream",
     "text": [
      "Hello, This is the new file\n",
      "This is the second line\n",
      "This is the third line\n",
      "This is the fourth line\n",
      "This is the fourth line\n",
      "This is the fourth line\n",
      "This is the fourth line\n",
      "This is the fourth line\n"
     ]
    },
    {
     "ename": "FileNotFoundError",
     "evalue": "[Errno 2] No such file or directory: 'C:\\\\Users\\\\sandisk\\\\Desktop\\\\Python Udemy\\\\Lectures Slides\\\\Chp 00\\\\notes\\\\my_file.txt'",
     "output_type": "error",
     "traceback": [
      "\u001b[1;31m---------------------------------------------------------------------------\u001b[0m",
      "\u001b[1;31mFileNotFoundError\u001b[0m                         Traceback (most recent call last)",
      "\u001b[1;32m<ipython-input-10-c98fe7c740ca>\u001b[0m in \u001b[0;36m<module>\u001b[1;34m\u001b[0m\n\u001b[0;32m     15\u001b[0m \u001b[1;33m\u001b[0m\u001b[0m\n\u001b[0;32m     16\u001b[0m \u001b[0mmy_file\u001b[0m \u001b[1;33m=\u001b[0m \u001b[1;34m\"C:\\\\Users\\\\sandisk\\\\Desktop\\\\Python Udemy\\\\Lectures Slides\\\\Chp 00\\\\notes\\\\my_file.txt\"\u001b[0m\u001b[1;33m\u001b[0m\u001b[1;33m\u001b[0m\u001b[0m\n\u001b[1;32m---> 17\u001b[1;33m \u001b[1;32mwith\u001b[0m \u001b[0mopen\u001b[0m\u001b[1;33m(\u001b[0m\u001b[0mmy_file\u001b[0m\u001b[1;33m,\u001b[0m \u001b[0mmode\u001b[0m\u001b[1;33m=\u001b[0m\u001b[1;34m'a'\u001b[0m\u001b[1;33m)\u001b[0m \u001b[1;32mas\u001b[0m \u001b[0mf\u001b[0m\u001b[1;33m:\u001b[0m\u001b[1;33m\u001b[0m\u001b[1;33m\u001b[0m\u001b[0m\n\u001b[0m\u001b[0;32m     18\u001b[0m     \u001b[0mf\u001b[0m\u001b[1;33m.\u001b[0m\u001b[0mwrite\u001b[0m\u001b[1;33m(\u001b[0m\u001b[1;34m\"\\nThis is the fourth line\"\u001b[0m\u001b[1;33m)\u001b[0m\u001b[1;33m\u001b[0m\u001b[1;33m\u001b[0m\u001b[0m\n\u001b[0;32m     19\u001b[0m \u001b[1;33m\u001b[0m\u001b[0m\n",
      "\u001b[1;31mFileNotFoundError\u001b[0m: [Errno 2] No such file or directory: 'C:\\\\Users\\\\sandisk\\\\Desktop\\\\Python Udemy\\\\Lectures Slides\\\\Chp 00\\\\notes\\\\my_file.txt'"
     ]
    }
   ],
   "source": [
    "# 2. With Open\n",
    "\n",
    "# the best practice is to use with, this way you don't need to worry about closing the file\n",
    "\n",
    "# by typing shift tab next to the function open in \n",
    "# jupyter notebaak it opens all the information about that function\n",
    "my_file = \"C:\\\\Users\\\\Admin\\\\Desktop\\\\Python Udemy\\\\Lectures Slides\\\\Chp 00\\\\notes\\\\my_file.txt\"\n",
    "with open(my_file, mode='r') as my_file:\n",
    "    contents = my_file.read()  \n",
    "    print(contents)\n",
    "    \n",
    "# We can have mode as 'r' for read only, 'w' for write only, 'a' for append only, \n",
    "# r+ is  reading and writing, w+ is for writing and reading\n",
    "# This mode is called permissions    \n",
    "\n",
    "my_file = \"C:\\\\Users\\\\sandisk\\\\Desktop\\\\Python Udemy\\\\Lectures Slides\\\\Chp 00\\\\notes\\\\my_file.txt\"\n",
    "with open(my_file, mode='a') as f:\n",
    "    f.write(\"\\nThis is the fourth line\")\n",
    "    \n",
    "my_file = \"C:\\\\Users\\\\sandisk\\\\Desktop\\\\Python Udemy\\\\Lectures Slides\\\\Chp 00\\\\notes\\\\my_file.txt\"    \n",
    "with open(my_file, mode='r') as my_file:\n",
    "    contents = my_file.read()  \n",
    "    print(contents)\n",
    "        "
   ]
  },
  {
   "cell_type": "code",
   "execution_count": null,
   "metadata": {},
   "outputs": [],
   "source": []
  }
 ],
 "metadata": {
  "kernelspec": {
   "display_name": "Python 3",
   "language": "python",
   "name": "python3"
  },
  "language_info": {
   "codemirror_mode": {
    "name": "ipython",
    "version": 3
   },
   "file_extension": ".py",
   "mimetype": "text/x-python",
   "name": "python",
   "nbconvert_exporter": "python",
   "pygments_lexer": "ipython3",
   "version": "3.7.3"
  }
 },
 "nbformat": 4,
 "nbformat_minor": 2
}
