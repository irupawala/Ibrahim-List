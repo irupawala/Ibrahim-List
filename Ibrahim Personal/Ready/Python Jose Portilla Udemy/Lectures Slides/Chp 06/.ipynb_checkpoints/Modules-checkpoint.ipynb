{
 "cells": [
  {
   "cell_type": "markdown",
   "metadata": {},
   "source": [
    "# Modules"
   ]
  },
  {
   "cell_type": "markdown",
   "metadata": {},
   "source": [
    "- Modules are just .py scripts that you call in another .py script\n",
    "- Packages are collection of modules\n",
    "- There is a key __init__.py script that needs to be placed inside the folder to let python know that the collection of python script should be treated as Modules.One doesn't need to write anything in that file it just needs to be there to let python know when it goes searching for the package that it is not a simple directory but actual package which consists bunch of modules (.py scripts).\n",
    "- Notice that the main advantage of package is it can call multiple functions from multiple packages within it"
   ]
  }
 ],
 "metadata": {
  "kernelspec": {
   "display_name": "Python 3",
   "language": "python",
   "name": "python3"
  },
  "language_info": {
   "codemirror_mode": {
    "name": "ipython",
    "version": 3
   },
   "file_extension": ".py",
   "mimetype": "text/x-python",
   "name": "python",
   "nbconvert_exporter": "python",
   "pygments_lexer": "ipython3",
   "version": "3.7.3"
  }
 },
 "nbformat": 4,
 "nbformat_minor": 2
}
