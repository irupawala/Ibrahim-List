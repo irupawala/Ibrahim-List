{
 "cells": [
  {
   "cell_type": "markdown",
   "metadata": {},
   "source": [
    "# CLASS OBJECT ATTRIBUTE"
   ]
  },
  {
   "cell_type": "code",
   "execution_count": null,
   "metadata": {
    "collapsed": true
   },
   "outputs": [],
   "source": [
    "# Class object attributes are nothing but the instances\n",
    "# which are same for any attributes of the class"
   ]
  },
  {
   "cell_type": "code",
   "execution_count": 6,
   "metadata": {
    "collapsed": true
   },
   "outputs": [],
   "source": [
    "class Dog():\n",
    "    \n",
    "    # There may be attributes which are going to be the same\n",
    "    # for any instance of the dog class like \"mammals\"\n",
    "    # hence we can have attribute define at class object level\n",
    "    # above the init method defined below\n",
    "    # This attribute is called \"CLASS OBJECT ATTRIBUTE\"\n",
    "    # These are same for any instance of the class\n",
    "    # The special thing about it is that we are not going \n",
    "    # to use self keyword because the self keyword is being used\n",
    "    # as a reference for a particular instance of the class\n",
    "    \n",
    "    species = \"mammal\"\n",
    "    \n",
    "    def __init__(self, breed, name, spot):\n",
    "        \n",
    "        self.breed = breed\n",
    "        self.name = name\n",
    "        \n",
    "\n",
    "        self.spot = spot"
   ]
  },
  {
   "cell_type": "code",
   "execution_count": 7,
   "metadata": {
    "collapsed": true
   },
   "outputs": [],
   "source": [
    "my_dog = Dog(breed = 'lab', name = 'Sammy', spot = \"NO\")"
   ]
  },
  {
   "cell_type": "code",
   "execution_count": 8,
   "metadata": {
    "collapsed": true
   },
   "outputs": [
    {
     "data": {
      "text/plain": [
       "__main__.Dog"
      ]
     },
     "execution_count": 8,
     "metadata": {},
     "output_type": "execute_result"
    }
   ],
   "source": [
    "type(my_dog)"
   ]
  },
  {
   "cell_type": "code",
   "execution_count": 9,
   "metadata": {
    "collapsed": true
   },
   "outputs": [
    {
     "data": {
      "text/plain": [
       "'mammal'"
      ]
     },
     "execution_count": 9,
     "metadata": {},
     "output_type": "execute_result"
    }
   ],
   "source": [
    "my_dog.species # This is going to be the same regardless\n",
    "# of what you pass in the instance of the class"
   ]
  },
  {
   "cell_type": "code",
   "execution_count": 54,
   "metadata": {
    "collapsed": true
   },
   "outputs": [
    {
     "data": {
      "text/plain": [
       "'lab'"
      ]
     },
     "execution_count": 54,
     "metadata": {},
     "output_type": "execute_result"
    }
   ],
   "source": [
    "my_dog.breed"
   ]
  },
  {
   "cell_type": "markdown",
   "metadata": {},
   "source": [
    "# Methods  "
   ]
  },
  {
   "cell_type": "code",
   "execution_count": 30,
   "metadata": {
    "collapsed": true
   },
   "outputs": [],
   "source": [
    "# Methods are the functions defined inside the body of the \n",
    "# class and they are used to perform operations that \n",
    "# sometimes utilize the actual attributes of the object we \n",
    "# have created\n",
    "\n",
    "# You can think of methods as functions acting on an object\n",
    "# that takes the object itself into account through the use\n",
    "# of self keyword\n",
    "\n",
    "\n",
    "\n",
    "class Dog():\n",
    "      \n",
    "    species = \"mammal\"\n",
    "    \n",
    "    def __init__(self, breed, name):\n",
    "        \n",
    "        self.breed = breed\n",
    "        self.name = name\n",
    "        \n",
    "\n",
    "    # OPERATIONS/ Actions --> Methods (Methods are nothing but\n",
    "    # the actions inside the class which operate on objects)\n",
    "    def bark(self): # Here self connects the methods \n",
    "# to an object\n",
    "        print(\"WOOF!\")\n",
    " \n"
   ]
  },
  {
   "cell_type": "code",
   "execution_count": 31,
   "metadata": {
    "collapsed": true
   },
   "outputs": [],
   "source": [
    "my_dog = Dog('Lab', 'Franky')"
   ]
  },
  {
   "cell_type": "code",
   "execution_count": 32,
   "metadata": {
    "collapsed": true
   },
   "outputs": [
    {
     "data": {
      "text/plain": [
       "__main__.Dog"
      ]
     },
     "execution_count": 32,
     "metadata": {},
     "output_type": "execute_result"
    }
   ],
   "source": [
    "type(my_dog)"
   ]
  },
  {
   "cell_type": "code",
   "execution_count": 33,
   "metadata": {
    "collapsed": true
   },
   "outputs": [
    {
     "data": {
      "text/plain": [
       "'mammal'"
      ]
     },
     "execution_count": 33,
     "metadata": {},
     "output_type": "execute_result"
    }
   ],
   "source": [
    "my_dog.species # attributes is not something you execute\n",
    "# Hence it does not have () braces\n",
    "# Its just a charcteristics of an object you called back\n",
    "# Its just information about the class Dog"
   ]
  },
  {
   "cell_type": "code",
   "execution_count": 34,
   "metadata": {
    "collapsed": true
   },
   "outputs": [
    {
     "data": {
      "text/plain": [
       "'Franky'"
      ]
     },
     "execution_count": 34,
     "metadata": {},
     "output_type": "execute_result"
    }
   ],
   "source": [
    "my_dog.name"
   ]
  },
  {
   "cell_type": "code",
   "execution_count": 35,
   "metadata": {
    "collapsed": true
   },
   "outputs": [
    {
     "name": "stdout",
     "output_type": "stream",
     "text": [
      "WOOF!\n"
     ]
    }
   ],
   "source": [
    "my_dog.bark() # In methods you actually execute something\n",
    "# hence you need () parantheses"
   ]
  },
  {
   "cell_type": "code",
   "execution_count": 36,
   "metadata": {
    "collapsed": true
   },
   "outputs": [
    {
     "data": {
      "text/plain": [
       "<bound method Dog.bark of <__main__.Dog object at 0x0000024C632123C8>>"
      ]
     },
     "execution_count": 36,
     "metadata": {},
     "output_type": "execute_result"
    }
   ],
   "source": [
    "my_dog.bark # This says that method is stored in this\n",
    "# location"
   ]
  },
  {
   "cell_type": "code",
   "execution_count": 37,
   "metadata": {
    "collapsed": true
   },
   "outputs": [],
   "source": [
    "# Methods can also use information about the \n",
    "# instance of the objects itself as well as external \n",
    "# arguments\n",
    "\n",
    "\n",
    "class Dog():\n",
    "      \n",
    "    species = \"mammal\"\n",
    "    \n",
    "    def __init__(self, breed, name):\n",
    "        \n",
    "        self.breed = breed\n",
    "        self.name = name\n",
    "        \n",
    "\n",
    "    def bark(self, number): # This self keyword is necessary to \n",
    "        # connect  it to attributes\n",
    "   # def bark(self, number=5): # It can also take default value for number if not passed\n",
    "        \n",
    "        print(\"WOOF! My name is {} and the number is {}\".format(self.name, number))\n",
    " \n",
    "\n"
   ]
  },
  {
   "cell_type": "code",
   "execution_count": 38,
   "metadata": {
    "collapsed": true
   },
   "outputs": [],
   "source": [
    "my_dog = Dog('Lab', 'Sammy')"
   ]
  },
  {
   "cell_type": "code",
   "execution_count": 39,
   "metadata": {
    "collapsed": true
   },
   "outputs": [
    {
     "data": {
      "text/plain": [
       "__main__.Dog"
      ]
     },
     "execution_count": 39,
     "metadata": {},
     "output_type": "execute_result"
    }
   ],
   "source": [
    "type(my_dog)"
   ]
  },
  {
   "cell_type": "code",
   "execution_count": 40,
   "metadata": {
    "collapsed": true
   },
   "outputs": [
    {
     "data": {
      "text/plain": [
       "'mammal'"
      ]
     },
     "execution_count": 40,
     "metadata": {},
     "output_type": "execute_result"
    }
   ],
   "source": [
    "my_dog.species"
   ]
  },
  {
   "cell_type": "code",
   "execution_count": 41,
   "metadata": {
    "collapsed": true
   },
   "outputs": [
    {
     "name": "stdout",
     "output_type": "stream",
     "text": [
      "WOOF! My name is Sammy and the number is 10\n"
     ]
    }
   ],
   "source": [
    "# my_dog.bark() Try running without argument number too\n",
    "my_dog.bark(10)"
   ]
  },
  {
   "cell_type": "code",
   "execution_count": null,
   "metadata": {
    "collapsed": true
   },
   "outputs": [],
   "source": []
  },
  {
   "cell_type": "code",
   "execution_count": 16,
   "metadata": {
    "collapsed": true
   },
   "outputs": [],
   "source": [
    "class Circle():\n",
    "    \n",
    "    # Class object attribute\n",
    "    \n",
    "    pi = 3.14 \n",
    "    \n",
    "    def __init__(self, radius = 1):\n",
    "        \n",
    "        self.radius = radius\n",
    "        \n",
    "    def get_circumference(self):\n",
    "        \n",
    "        return self.radius * self.pi * 2\n",
    "    "
   ]
  },
  {
   "cell_type": "code",
   "execution_count": 19,
   "metadata": {
    "collapsed": true
   },
   "outputs": [],
   "source": [
    "# my_circle = Circle()\n",
    "# This is confucing please notice that if you are to give\n",
    "# the value of radius you have to give here during the instance definition\n",
    "my_circle = Circle(30)"
   ]
  },
  {
   "cell_type": "code",
   "execution_count": 20,
   "metadata": {
    "collapsed": true
   },
   "outputs": [
    {
     "data": {
      "text/plain": [
       "3.14"
      ]
     },
     "execution_count": 20,
     "metadata": {},
     "output_type": "execute_result"
    }
   ],
   "source": [
    "my_circle.pi"
   ]
  },
  {
   "cell_type": "code",
   "execution_count": 21,
   "metadata": {
    "collapsed": true
   },
   "outputs": [
    {
     "data": {
      "text/plain": [
       "30"
      ]
     },
     "execution_count": 21,
     "metadata": {},
     "output_type": "execute_result"
    }
   ],
   "source": [
    "my_circle.radius"
   ]
  },
  {
   "cell_type": "code",
   "execution_count": 22,
   "metadata": {
    "collapsed": true
   },
   "outputs": [
    {
     "data": {
      "text/plain": [
       "188.4"
      ]
     },
     "execution_count": 22,
     "metadata": {},
     "output_type": "execute_result"
    }
   ],
   "source": [
    "my_circle.get_circumference()"
   ]
  },
  {
   "cell_type": "code",
   "execution_count": 60,
   "metadata": {
    "collapsed": true
   },
   "outputs": [],
   "source": [
    "# Notice that attributes doesn't have to be necessarily defined\n",
    "# from a parameter call. Notice the attribute of area\n",
    "\n",
    "class Circle():\n",
    "    \n",
    "    # Class object attribute\n",
    "    \n",
    "    pi = 3.14 \n",
    "    \n",
    "    def __init__(self, radius = 1):\n",
    "        \n",
    "        self.radius = radius\n",
    "   #     self.area = self.pi * radius * radius\n",
    "# CLASS OBJECT ATTRIBUTE can also be called as below\n",
    "        self.area = Circle.pi * radius * radius\n",
    "    def get_circumference(self):\n",
    "        \n",
    "        return self.radius * self.pi * 2\n",
    "    "
   ]
  },
  {
   "cell_type": "code",
   "execution_count": 61,
   "metadata": {
    "collapsed": true
   },
   "outputs": [],
   "source": [
    "my_circle = Circle(30)"
   ]
  },
  {
   "cell_type": "code",
   "execution_count": 62,
   "metadata": {
    "collapsed": true
   },
   "outputs": [
    {
     "data": {
      "text/plain": [
       "3.14"
      ]
     },
     "execution_count": 62,
     "metadata": {},
     "output_type": "execute_result"
    }
   ],
   "source": [
    "my_circle.pi"
   ]
  },
  {
   "cell_type": "code",
   "execution_count": 63,
   "metadata": {
    "collapsed": true
   },
   "outputs": [
    {
     "data": {
      "text/plain": [
       "2826.0"
      ]
     },
     "execution_count": 63,
     "metadata": {},
     "output_type": "execute_result"
    }
   ],
   "source": [
    "my_circle.area"
   ]
  },
  {
   "cell_type": "markdown",
   "metadata": {},
   "source": [
    "# How to print the Object"
   ]
  },
  {
   "cell_type": "code",
   "execution_count": 37,
   "metadata": {
    "collapsed": true
   },
   "outputs": [],
   "source": [
    "class Account:\n",
    "    \n",
    "    \n",
    "    def __init__ (self, owner = \"No Owner\", balance = 0):\n",
    "        self.owner = owner\n",
    "        self.balance = balance\n",
    "        #return (f\"Owner: {self.owner}\\nBalance:{self.balance}\")\n",
    "        \n",
    "    def deposit(self, deposit = 0):\n",
    "            \n",
    "        self.balance = self.balance + deposit\n",
    "        print (\"DEPOSITED ACCEPTED\")\n",
    "        print (f\"Total Balance = {self.balance}\")\n",
    "        \n",
    "        \n",
    "    def withdraw(self, withdraw = 0):\n",
    "        \n",
    "        if (withdraw <= self.balance):\n",
    "            self.balance = self.balance - withdraw\n",
    "            print (\"WITHDRAWAL SUCCESSFUL\")\n",
    "            print (f\"Total Balance = {self.balance}\")   \n",
    "        else:\n",
    "            print (\"Withdrawals cannot exceed total balance\")\n",
    "            \n",
    "    def __str__ (self):\n",
    "        \n",
    "       return (f\"Owner: {self.owner}\\nBalance: {self.balance}\")\n",
    "    "
   ]
  },
  {
   "cell_type": "code",
   "execution_count": 38,
   "metadata": {
    "collapsed": true
   },
   "outputs": [],
   "source": [
    "a = Account(\"Ibrahim\", 500)"
   ]
  },
  {
   "cell_type": "code",
   "execution_count": 39,
   "metadata": {
    "collapsed": true
   },
   "outputs": [
    {
     "name": "stdout",
     "output_type": "stream",
     "text": [
      "Owner: Ibrahim\n",
      "Balance: 500\n"
     ]
    }
   ],
   "source": [
    "print(a)"
   ]
  },
  {
   "cell_type": "code",
   "execution_count": 40,
   "metadata": {
    "collapsed": true
   },
   "outputs": [
    {
     "name": "stdout",
     "output_type": "stream",
     "text": [
      "DEPOSITED ACCEPTED\n",
      "Total Balance = 1000\n"
     ]
    }
   ],
   "source": [
    "a.deposit(500)"
   ]
  },
  {
   "cell_type": "code",
   "execution_count": 41,
   "metadata": {
    "collapsed": true
   },
   "outputs": [
    {
     "name": "stdout",
     "output_type": "stream",
     "text": [
      "Owner: Ibrahim\n",
      "Balance: 1000\n"
     ]
    }
   ],
   "source": [
    "print(a)"
   ]
  },
  {
   "cell_type": "code",
   "execution_count": 42,
   "metadata": {
    "collapsed": true
   },
   "outputs": [
    {
     "name": "stdout",
     "output_type": "stream",
     "text": [
      "WITHDRAWAL SUCCESSFUL\n",
      "Total Balance = 800\n"
     ]
    }
   ],
   "source": [
    "a.withdraw(200)"
   ]
  },
  {
   "cell_type": "code",
   "execution_count": 43,
   "metadata": {
    "collapsed": true
   },
   "outputs": [
    {
     "name": "stdout",
     "output_type": "stream",
     "text": [
      "Owner: Ibrahim\n",
      "Balance: 800\n"
     ]
    }
   ],
   "source": [
    "print(a)"
   ]
  },
  {
   "cell_type": "code",
   "execution_count": 83,
   "metadata": {
    "collapsed": true
   },
   "outputs": [],
   "source": [
    "class Book():\n",
    "    \n",
    "    def __init__(self, title, author, pages):\n",
    "        self.title = title\n",
    "        self.author = author\n",
    "        self.pages = pages\n",
    "        \n",
    "    def __str__(self):\n",
    "        return (f\"{self.title} by {self.author}\")\n",
    "    \n",
    "    def __len__(self):\n",
    "        return self.pages\n",
    "    \n",
    "    def __del__(self):\n",
    "        print(\"A book object has been deleted\")\n",
    "        "
   ]
  },
  {
   "cell_type": "code",
   "execution_count": 84,
   "metadata": {
    "collapsed": true
   },
   "outputs": [
    {
     "name": "stdout",
     "output_type": "stream",
     "text": [
      "A book object has been deleted\n"
     ]
    }
   ],
   "source": [
    "b = Book(\"Python Rocks!\", \"Ibrahim\", 500)"
   ]
  },
  {
   "cell_type": "code",
   "execution_count": 85,
   "metadata": {
    "collapsed": true
   },
   "outputs": [
    {
     "data": {
      "text/plain": [
       "'Python Rocks!'"
      ]
     },
     "execution_count": 85,
     "metadata": {},
     "output_type": "execute_result"
    }
   ],
   "source": [
    "b.title"
   ]
  },
  {
   "cell_type": "code",
   "execution_count": 86,
   "metadata": {
    "collapsed": true
   },
   "outputs": [
    {
     "name": "stdout",
     "output_type": "stream",
     "text": [
      "Python Rocks! by Ibrahim\n"
     ]
    }
   ],
   "source": [
    "print(b)"
   ]
  },
  {
   "cell_type": "code",
   "execution_count": 87,
   "metadata": {
    "collapsed": true
   },
   "outputs": [],
   "source": [
    "#del(b)"
   ]
  },
  {
   "cell_type": "code",
   "execution_count": 88,
   "metadata": {
    "collapsed": true
   },
   "outputs": [
    {
     "data": {
      "text/plain": [
       "500"
      ]
     },
     "execution_count": 88,
     "metadata": {},
     "output_type": "execute_result"
    }
   ],
   "source": [
    "len(b)"
   ]
  },
  {
   "cell_type": "code",
   "execution_count": null,
   "metadata": {
    "collapsed": true
   },
   "outputs": [],
   "source": []
  }
 ],
 "metadata": {
  "kernelspec": {
   "display_name": "Python 3",
   "language": "python",
   "name": "python3"
  },
  "language_info": {
   "codemirror_mode": {
    "name": "ipython",
    "version": 3
   },
   "file_extension": ".py",
   "mimetype": "text/x-python",
   "name": "python",
   "nbconvert_exporter": "python",
   "pygments_lexer": "ipython3",
   "version": "3.7.3"
  }
 },
 "nbformat": 4,
 "nbformat_minor": 2
}
