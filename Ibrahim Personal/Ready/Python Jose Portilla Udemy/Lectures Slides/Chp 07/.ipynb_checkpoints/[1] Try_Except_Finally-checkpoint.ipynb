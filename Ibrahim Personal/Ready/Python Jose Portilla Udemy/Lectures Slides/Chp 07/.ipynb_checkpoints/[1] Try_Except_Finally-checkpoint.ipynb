{
 "cells": [
  {
   "cell_type": "markdown",
   "metadata": {},
   "source": [
    "# Errors and Exception Handling\n"
   ]
  },
  {
   "cell_type": "markdown",
   "metadata": {},
   "source": [
    "- Currently with any error in the code the entire script will stop\n",
    "- We can use Error Handling to let the script continue with other codee, even if there is an error"
   ]
  },
  {
   "cell_type": "markdown",
   "metadata": {},
   "source": [
    "# Try, Except and Finally"
   ]
  },
  {
   "cell_type": "markdown",
   "metadata": {},
   "source": [
    "- Try: This is the block of code to be attempted (may lead to an error)\n",
    "- Except: Block of code will execute in case there is an error in try block\n",
    "- Finally: A final block of code to be executed, regardless of an error.\n",
    "    "
   ]
  },
  {
   "cell_type": "code",
   "execution_count": 62,
   "metadata": {},
   "outputs": [
    {
     "name": "stdout",
     "output_type": "stream",
     "text": [
      "Add went well!\n",
      "20\n"
     ]
    }
   ],
   "source": [
    "# Excample 1 \n",
    "try:\n",
    "    # Want to execute this code\n",
    "    # MAy have an error \n",
    "    \n",
    "    result = 10 + 10\n",
    "\n",
    "except:\n",
    "    \n",
    "    print (\"Hey it looks like you aren't adding correctly !!\")\n",
    "\n",
    "else:\n",
    "    \n",
    "    print (\"Add went well!\")\n",
    "    print (result)"
   ]
  },
  {
   "cell_type": "code",
   "execution_count": 63,
   "metadata": {},
   "outputs": [
    {
     "name": "stdout",
     "output_type": "stream",
     "text": [
      "Hey it looks like you aren't adding correctly !!\n"
     ]
    }
   ],
   "source": [
    "# Excample 2\n",
    "try:\n",
    "    # Want to execute this code\n",
    "    # MAy have an error \n",
    "    \n",
    "    result = 10 + \"10\"\n",
    "\n",
    "except:\n",
    "    \n",
    "    print (\"Hey it looks like you aren't adding correctly !!\")\n",
    "\n",
    "else:\n",
    "    \n",
    "    print (\"Add went well!\")\n",
    "    print (result)"
   ]
  },
  {
   "cell_type": "code",
   "execution_count": 68,
   "metadata": {},
   "outputs": [
    {
     "name": "stdout",
     "output_type": "stream",
     "text": [
      "I will always run\n"
     ]
    }
   ],
   "source": [
    "# Excample 3\n",
    "try: \n",
    "    f = open(\"testfile\", \"w\")\n",
    "    f.write(\"Write a test line\")\n",
    "except TypeError:\n",
    "    print(\"There was a type error!\")\n",
    "except OSError:\n",
    "    print(\"Hey you have an OS Error\")\n",
    "finally:\n",
    "    print(\"I will always run\")"
   ]
  },
  {
   "cell_type": "code",
   "execution_count": 69,
   "metadata": {},
   "outputs": [
    {
     "name": "stdout",
     "output_type": "stream",
     "text": [
      "Hey you have an OS Error\n",
      "I will always run\n"
     ]
    }
   ],
   "source": [
    "# Excample 4\n",
    "try: \n",
    "    f = open(\"testfile\", \"r\")\n",
    "    f.write(\"Write a test line\")\n",
    "except TypeError:\n",
    "    print(\"There was a type error!\")\n",
    "except OSError:\n",
    "    print(\"Hey you have an OS Error\")\n",
    "finally:\n",
    "    print(\"I will always run\")"
   ]
  },
  {
   "cell_type": "code",
   "execution_count": 70,
   "metadata": {},
   "outputs": [
    {
     "name": "stdout",
     "output_type": "stream",
     "text": [
      "All other exceptions\n",
      "I will always run\n"
     ]
    }
   ],
   "source": [
    "# Example 5\n",
    "try: \n",
    "    f = open(\"testfile\", \"r\")\n",
    "    f.write(\"Write a test line\")\n",
    "except TypeError:\n",
    "    print(\"There was a type error!\")\n",
    "except:\n",
    "    print(\"All other exceptions\")\n",
    "finally:\n",
    "    print(\"I will always run\")"
   ]
  },
  {
   "cell_type": "code",
   "execution_count": 71,
   "metadata": {},
   "outputs": [],
   "source": [
    "# Example 6\n",
    "def ask_for_integer():\n",
    "    \n",
    "    while True:\n",
    "        \n",
    "        try:\n",
    "             result = int(input(\"Ask for an  integer: \"))\n",
    "        except:\n",
    "            print (\"Whoops! That is not a number\")\n",
    "            continue # not required but kept to increase readability\n",
    "        else:\n",
    "            print(\"Yes thank you\")\n",
    "            break\n",
    "        finally:\n",
    "            print(\"End of try/ except/ finally\")\n"
   ]
  },
  {
   "cell_type": "code",
   "execution_count": 72,
   "metadata": {},
   "outputs": [
    {
     "name": "stdout",
     "output_type": "stream",
     "text": [
      "Ask for an  integer: 2\n",
      "Yes thank you\n",
      "End of try/ except/ finally\n"
     ]
    }
   ],
   "source": [
    "ask_for_integer()"
   ]
  },
  {
   "cell_type": "code",
   "execution_count": 74,
   "metadata": {},
   "outputs": [],
   "source": [
    "# Example 7\n",
    "def ask_for_integer():\n",
    "    \n",
    "    while True:\n",
    "        \n",
    "        try:\n",
    "             result = int(input(\"Ask for an  integer: \"))\n",
    "        except:\n",
    "            print (\"Whoops! That is not a number\")\n",
    "            continue # not required but kept to increase readability\n",
    "        else:\n",
    "            print(\"Yes, thank you !\")\n",
    "            break\n"
   ]
  },
  {
   "cell_type": "code",
   "execution_count": 75,
   "metadata": {},
   "outputs": [
    {
     "name": "stdout",
     "output_type": "stream",
     "text": [
      "Ask for an  integer: h\n",
      "Whoops! That is not a number\n",
      "Ask for an  integer: 2\n",
      "Yes, thank you !\n"
     ]
    }
   ],
   "source": [
    "ask_for_integer()"
   ]
  },
  {
   "cell_type": "code",
   "execution_count": 60,
   "metadata": {},
   "outputs": [],
   "source": [
    "# Example 8\n",
    "def ask_for_integer():\n",
    "    \n",
    "    while True:\n",
    "        \n",
    "        try:\n",
    "            result = int(input(\"Ask for an  integer: \"))\n",
    "            print(\"Yes thank you\")\n",
    "            break\n",
    "        except:\n",
    "            print (\"Whoops! That is not a number\")\n",
    "            continue # not required but kept to increase readability"
   ]
  },
  {
   "cell_type": "code",
   "execution_count": 61,
   "metadata": {},
   "outputs": [
    {
     "name": "stdout",
     "output_type": "stream",
     "text": [
      "Ask for an  integer: 5\n",
      "Yes thank you\n"
     ]
    }
   ],
   "source": [
    "ask_for_integer()"
   ]
  },
  {
   "cell_type": "code",
   "execution_count": null,
   "metadata": {},
   "outputs": [],
   "source": []
  }
 ],
 "metadata": {
  "kernelspec": {
   "display_name": "Python 3",
   "language": "python",
   "name": "python3"
  },
  "language_info": {
   "codemirror_mode": {
    "name": "ipython",
    "version": 3
   },
   "file_extension": ".py",
   "mimetype": "text/x-python",
   "name": "python",
   "nbconvert_exporter": "python",
   "pygments_lexer": "ipython3",
   "version": "3.7.3"
  }
 },
 "nbformat": 4,
 "nbformat_minor": 2
}
