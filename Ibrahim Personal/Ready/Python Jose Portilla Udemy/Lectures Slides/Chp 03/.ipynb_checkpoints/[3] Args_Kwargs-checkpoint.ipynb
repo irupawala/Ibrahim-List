{
 "cells": [
  {
   "cell_type": "code",
   "execution_count": 2,
   "metadata": {},
   "outputs": [],
   "source": [
    "def myfunc(a,b):\n",
    "    # Returns 5% of the sum of a and b\n",
    "   # return (a + b) * 0.05\n",
    "# return sum (a,b) * 0.05\n",
    "    return sum ((a,b)) * 0.05 # Notice here that we have to pass in here as a tuple or list"
   ]
  },
  {
   "cell_type": "code",
   "execution_count": 3,
   "metadata": {},
   "outputs": [
    {
     "data": {
      "text/plain": [
       "5.0"
      ]
     },
     "execution_count": 3,
     "metadata": {},
     "output_type": "execute_result"
    }
   ],
   "source": [
    "myfunc(40, 60)"
   ]
  },
  {
   "cell_type": "code",
   "execution_count": 20,
   "metadata": {},
   "outputs": [],
   "source": [
    "# Note that in this function a and b are positional argument that is 40 is assign to a and 60 is assign to b\n",
    "# What if we have multiple arguments\n",
    "# One thing we cna do is define default arguments\n",
    "\n",
    "def myfunc(a,b, c=0, d=0):\n",
    "    # Returns 5% of the sum of a and b\n",
    "     return sum ((a,b)) * 0.05\n"
   ]
  },
  {
   "cell_type": "code",
   "execution_count": 22,
   "metadata": {},
   "outputs": [
    {
     "data": {
      "text/plain": [
       "0.15000000000000002"
      ]
     },
     "execution_count": 22,
     "metadata": {},
     "output_type": "execute_result"
    }
   ],
   "source": [
    "myfunc(1,2,7,0)\n",
    "# But if more than 4 argumets are given than it will throw error"
   ]
  },
  {
   "cell_type": "code",
   "execution_count": 29,
   "metadata": {},
   "outputs": [],
   "source": [
    "# The solution is to use *args\n",
    "\n",
    "def myfunc (*args): # *args will allow us to treat the incoming numbers as the tuples of parameters\n",
    "    print(args)\n",
    "    return sum(args)*0.05"
   ]
  },
  {
   "cell_type": "code",
   "execution_count": 30,
   "metadata": {},
   "outputs": [
    {
     "name": "stdout",
     "output_type": "stream",
     "text": [
      "(10, 20, 30)\n"
     ]
    },
    {
     "data": {
      "text/plain": [
       "3.0"
      ]
     },
     "execution_count": 30,
     "metadata": {},
     "output_type": "execute_result"
    }
   ],
   "source": [
    "myfunc(10, 20, 30)"
   ]
  },
  {
   "cell_type": "code",
   "execution_count": 32,
   "metadata": {},
   "outputs": [],
   "source": [
    "# Note that this word args can be replaced with any other word beginning with * but conventionally \n",
    "# for readability you must use args\n",
    "\n"
   ]
  },
  {
   "cell_type": "code",
   "execution_count": 34,
   "metadata": {},
   "outputs": [],
   "source": [
    "def myfunc (*args): # *args will allow us to treat the incoming numbers as the tuples of parameters\n",
    "    for items in args:\n",
    "        print(items)"
   ]
  },
  {
   "cell_type": "code",
   "execution_count": 35,
   "metadata": {},
   "outputs": [
    {
     "name": "stdout",
     "output_type": "stream",
     "text": [
      "10\n",
      "20\n",
      "30\n"
     ]
    }
   ],
   "source": [
    "myfunc(10, 20, 30)"
   ]
  },
  {
   "cell_type": "code",
   "execution_count": 43,
   "metadata": {},
   "outputs": [],
   "source": [
    "# Similar to args which returns the list **kwargs returns the dictionary\n",
    "def myfunc(**kwargs):\n",
    "    print (kwargs)\n",
    "    if 'fruit' in kwargs:\n",
    "        print(\"My fruit of choise is {}\". format(kwargs[\"fruits\"]))\n",
    "    else:\n",
    "        print (\"No fruit found\")"
   ]
  },
  {
   "cell_type": "code",
   "execution_count": 44,
   "metadata": {},
   "outputs": [
    {
     "name": "stdout",
     "output_type": "stream",
     "text": [
      "{'fruits': 'apple', 'veggie': 'lettuce'}\n",
      "No fruit found\n"
     ]
    }
   ],
   "source": [
    "myfunc(fruits=\"apple\", veggie = \"lettuce\")"
   ]
  },
  {
   "cell_type": "code",
   "execution_count": 48,
   "metadata": {},
   "outputs": [],
   "source": [
    "def myfunc(*args, **kwargs):\n",
    "    print(args)\n",
    "    print(kwargs)\n",
    "    print (\"I would like {} {}\". format(args[0], kwargs[\"food\"]))"
   ]
  },
  {
   "cell_type": "code",
   "execution_count": 50,
   "metadata": {},
   "outputs": [
    {
     "name": "stdout",
     "output_type": "stream",
     "text": [
      "(10, 20, 30)\n",
      "{'fruit': 'orange', 'food': 'spinach', 'animal': 'cat'}\n",
      "I would like 10 spinach\n"
     ]
    }
   ],
   "source": [
    "myfunc(10,20,30, fruit =\"orange\", food= \"spinach\", animal = \"cat\")# notice that the args and kwargs must go in the same order \n",
    "# that is you cannot define args again after kwargs"
   ]
  },
  {
   "cell_type": "code",
   "execution_count": null,
   "metadata": {},
   "outputs": [],
   "source": []
  }
 ],
 "metadata": {
  "kernelspec": {
   "display_name": "Python 3",
   "language": "python",
   "name": "python3"
  },
  "language_info": {
   "codemirror_mode": {
    "name": "ipython",
    "version": 3
   },
   "file_extension": ".py",
   "mimetype": "text/x-python",
   "name": "python",
   "nbconvert_exporter": "python",
   "pygments_lexer": "ipython3",
   "version": "3.7.3"
  }
 },
 "nbformat": 4,
 "nbformat_minor": 2
}
