{
 "cells": [
  {
   "cell_type": "markdown",
   "metadata": {},
   "source": [
    "# namedtuple"
   ]
  },
  {
   "cell_type": "code",
   "execution_count": 1,
   "metadata": {},
   "outputs": [],
   "source": [
    "t = (1,2,3)"
   ]
  },
  {
   "cell_type": "code",
   "execution_count": 2,
   "metadata": {},
   "outputs": [
    {
     "data": {
      "text/plain": [
       "1"
      ]
     },
     "execution_count": 2,
     "metadata": {},
     "output_type": "execute_result"
    }
   ],
   "source": [
    "t[0]"
   ]
  },
  {
   "cell_type": "markdown",
   "metadata": {},
   "source": [
    "* Note that remembering which index to use is tedious for larger codes. Hence namedtuple comes into play\n",
    "* namedtuple assigns name as well as index to each and every member of the tuple\n",
    "* Format:\n",
    "\n",
    "    ***variable_name = namedtuple(name of the class, list of all the strings which are attributes - each attribute is separated by a space '')***\n"
   ]
  },
  {
   "cell_type": "code",
   "execution_count": 4,
   "metadata": {},
   "outputs": [],
   "source": []
  },
  {
   "cell_type": "code",
   "execution_count": 5,
   "metadata": {},
   "outputs": [
    {
     "name": "stdout",
     "output_type": "stream",
     "text": [
      "Dog(age=2, breed='Lab', name='Sammy')\n",
      "2\n",
      "Lab\n",
      "Lab\n",
      "Sammy\n"
     ]
    }
   ],
   "source": [
    "from collections import namedtuple\n",
    "Dog = namedtuple(\"Dog\", \"age breed name\")\n",
    "sam = Dog(age=2, breed = \"Lab\", name=\"Sammy\")\n",
    "print(sam)\n",
    "print(sam.age)\n",
    "print(sam.breed)\n",
    "print(sam[1])\n",
    "print(sam[2])"
   ]
  },
  {
   "cell_type": "markdown",
   "metadata": {},
   "source": [
    "### Another Example"
   ]
  },
  {
   "cell_type": "code",
   "execution_count": 7,
   "metadata": {},
   "outputs": [],
   "source": [
    "Cat = namedtuple(\"Cat\", \"fur claws name\")"
   ]
  },
  {
   "cell_type": "code",
   "execution_count": 8,
   "metadata": {},
   "outputs": [
    {
     "name": "stdout",
     "output_type": "stream",
     "text": [
      "Kitty\n",
      "Kitty\n"
     ]
    }
   ],
   "source": [
    "c = Cat(fur=\"Fuzzy\", claws=False, name=\"Kitty\")\n",
    "print(c.name)\n",
    "print(c[2])"
   ]
  }
 ],
 "metadata": {
  "kernelspec": {
   "display_name": "Python 3",
   "language": "python",
   "name": "python3"
  },
  "language_info": {
   "codemirror_mode": {
    "name": "ipython",
    "version": 3
   },
   "file_extension": ".py",
   "mimetype": "text/x-python",
   "name": "python",
   "nbconvert_exporter": "python",
   "pygments_lexer": "ipython3",
   "version": "3.7.3"
  }
 },
 "nbformat": 4,
 "nbformat_minor": 2
}
